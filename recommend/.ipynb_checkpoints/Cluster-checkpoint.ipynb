{
 "cells": [
  {
   "cell_type": "markdown",
   "metadata": {},
   "source": [
    "# 准备工作"
   ]
  },
  {
   "cell_type": "code",
   "execution_count": 1,
   "metadata": {},
   "outputs": [],
   "source": [
    "import pandas as pd\n",
    "import numpy as np\n",
    "import matplotlib.pyplot as plt\n",
    "%matplotlib inline"
   ]
  },
  {
   "cell_type": "code",
   "execution_count": 2,
   "metadata": {},
   "outputs": [],
   "source": [
    "dogs = pd.read_csv('./dataset/dogs.csv')"
   ]
  },
  {
   "cell_type": "code",
   "execution_count": 3,
   "metadata": {},
   "outputs": [],
   "source": [
    "dogs = dogs.set_index('breed')"
   ]
  },
  {
   "cell_type": "code",
   "execution_count": 4,
   "metadata": {},
   "outputs": [
    {
     "data": {
      "image/png": "[encoded data removed]",
      "text/plain": [
       "<Figure size 432x288 with 1 Axes>"
      ]
     },
     "metadata": {},
     "output_type": "display_data"
    }
   ],
   "source": [
    "plt.plot(dogs['weight (pounds)'], dogs['height (inches)'], 'k*' )\n",
    "for index in dogs.index:\n",
    "    plt.annotate(index, xy = (dogs.loc[index]['weight (pounds)'], dogs.loc[index]['height (inches)']))"
   ]
  },
  {
   "cell_type": "code",
   "execution_count": 5,
   "metadata": {},
   "outputs": [],
   "source": [
    "def normal(data):\n",
    "    return (data - np.tile(data.median(),(data.shape[0], 1)))/np.tile(data.mad(),(data.shape[0], 1))"
   ]
  },
  {
   "cell_type": "code",
   "execution_count": 6,
   "metadata": {},
   "outputs": [
    {
     "data": {
      "text/html": [
       "<div>\n",
       "<style scoped>\n",
       "    .dataframe tbody tr th:only-of-type {\n",
       "        vertical-align: middle;\n",
       "    }\n",
       "\n",
       "    .dataframe tbody tr th {\n",
       "        vertical-align: top;\n",
       "    }\n",
       "\n",
       "    .dataframe thead th {\n",
       "        text-align: right;\n",
       "    }\n",
       "</style>\n",
       "<table border=\"1\" class=\"dataframe\">\n",
       "  <thead>\n",
       "    <tr style=\"text-align: right;\">\n",
       "      <th></th>\n",
       "      <th>height (inches)</th>\n",
       "      <th>weight (pounds)</th>\n",
       "    </tr>\n",
       "    <tr>\n",
       "      <th>breed</th>\n",
       "      <th></th>\n",
       "      <th></th>\n",
       "    </tr>\n",
       "  </thead>\n",
       "  <tbody>\n",
       "    <tr>\n",
       "      <th>Border Collie</th>\n",
       "      <td>0.000000</td>\n",
       "      <td>-0.141819</td>\n",
       "    </tr>\n",
       "    <tr>\n",
       "      <th>Boston Terrier</th>\n",
       "      <td>-0.715976</td>\n",
       "      <td>-0.850914</td>\n",
       "    </tr>\n",
       "    <tr>\n",
       "      <th>Brittany Spaniel</th>\n",
       "      <td>-0.357988</td>\n",
       "      <td>-0.425457</td>\n",
       "    </tr>\n",
       "    <tr>\n",
       "      <th>Bullmastiff</th>\n",
       "      <td>1.252959</td>\n",
       "      <td>1.985466</td>\n",
       "    </tr>\n",
       "    <tr>\n",
       "      <th>Chihuahua</th>\n",
       "      <td>-2.147929</td>\n",
       "      <td>-1.191280</td>\n",
       "    </tr>\n",
       "    <tr>\n",
       "      <th>German Shepherd</th>\n",
       "      <td>0.894970</td>\n",
       "      <td>0.794187</td>\n",
       "    </tr>\n",
       "    <tr>\n",
       "      <th>Golden Retriever</th>\n",
       "      <td>0.536982</td>\n",
       "      <td>0.567276</td>\n",
       "    </tr>\n",
       "    <tr>\n",
       "      <th>Great Dane</th>\n",
       "      <td>2.147929</td>\n",
       "      <td>3.120019</td>\n",
       "    </tr>\n",
       "    <tr>\n",
       "      <th>Portuguese Water Dog</th>\n",
       "      <td>0.178994</td>\n",
       "      <td>0.000000</td>\n",
       "    </tr>\n",
       "    <tr>\n",
       "      <th>Standard Poodle</th>\n",
       "      <td>-0.178994</td>\n",
       "      <td>0.425457</td>\n",
       "    </tr>\n",
       "    <tr>\n",
       "      <th>Yorkshire Terrier</th>\n",
       "      <td>-2.505917</td>\n",
       "      <td>-1.219644</td>\n",
       "    </tr>\n",
       "  </tbody>\n",
       "</table>\n",
       "</div>"
      ],
      "text/plain": [
       "                      height (inches)  weight (pounds)\n",
       "breed                                                 \n",
       "Border Collie                0.000000        -0.141819\n",
       "Boston Terrier              -0.715976        -0.850914\n",
       "Brittany Spaniel            -0.357988        -0.425457\n",
       "Bullmastiff                  1.252959         1.985466\n",
       "Chihuahua                   -2.147929        -1.191280\n",
       "German Shepherd              0.894970         0.794187\n",
       "Golden Retriever             0.536982         0.567276\n",
       "Great Dane                   2.147929         3.120019\n",
       "Portuguese Water Dog         0.178994         0.000000\n",
       "Standard Poodle             -0.178994         0.425457\n",
       "Yorkshire Terrier           -2.505917        -1.219644"
      ]
     },
     "execution_count": 6,
     "metadata": {},
     "output_type": "execute_result"
    }
   ],
   "source": [
    "normal(dogs)"
   ]
  },
  {
   "cell_type": "code",
   "execution_count": 7,
   "metadata": {},
   "outputs": [],
   "source": [
    "def distance(vector1, vector2):\n",
    "    return np.sqrt(np.sum(np.square(vector1 - np.tile(vector2, (vector1.shape[0],1))), axis=1))"
   ]
  },
  {
   "cell_type": "code",
   "execution_count": 8,
   "metadata": {},
   "outputs": [
    {
     "data": {
      "text/plain": [
       "breed\n",
       "Border Collie            40.496913\n",
       "Boston Terrier           16.401219\n",
       "Brittany Spaniel         30.463092\n",
       "Bullmastiff             114.934764\n",
       "Chihuahua                 2.236068\n",
       "German Shepherd          73.498299\n",
       "Golden Retriever         65.253352\n",
       "Great Dane              155.193428\n",
       "Portuguese Water Dog     45.541190\n",
       "Standard Poodle          59.439044\n",
       "Yorkshire Terrier         0.000000\n",
       "dtype: float64"
      ]
     },
     "execution_count": 8,
     "metadata": {},
     "output_type": "execute_result"
    }
   ],
   "source": [
    "distance(dogs,dogs.loc[['Yorkshire Terrier']])"
   ]
  },
  {
   "cell_type": "code",
   "execution_count": 9,
   "metadata": {},
   "outputs": [],
   "source": [
    "def selectCenter(data, k=3):\n",
    "    center = np.random.permutation(data.index)[0:k]# 第一个簇类\n",
    "    return center"
   ]
  },
  {
   "cell_type": "code",
   "execution_count": 10,
   "metadata": {},
   "outputs": [],
   "source": [
    "first_center = selectCenter(dogs)\n",
    "centers = pd.DataFrame(dogs.loc[first_center].values,index=['class_'+str(i) for i in range(1, first_center.shape[0]+1)])"
   ]
  },
  {
   "cell_type": "code",
   "execution_count": 11,
   "metadata": {},
   "outputs": [],
   "source": [
    "def updatecenter(data, centers):\n",
    "    new_centers = centers.copy()\n",
    "    dista = pd.DataFrame(index = data.index )\n",
    "    for index, center in centers.iterrows():\n",
    "        # 计算所有实例与聚类中心的距离\n",
    "        dista[index]= distance(data.values,center.values)\n",
    "    clas= {}#类别字典\n",
    "    min_index = dista.idxmin(axis=1)#获取实例属于的类别\n",
    "    for key in min_index.keys():\n",
    "        # 将类别与实例的对应关系重新组织为字典\n",
    "        clas.setdefault(min_index[key],[])\n",
    "        clas[min_index[key]].append(key)\n",
    "    # 重新计算聚类中心\n",
    "    for key in clas:\n",
    "        new_centers.loc[key] = (np.sum(data.loc[clas[key]], axis=0)/len(clas[key])).values# 更新聚类中心点\n",
    "    return new_centers, clas"
   ]
  },
  {
   "cell_type": "code",
   "execution_count": 12,
   "metadata": {},
   "outputs": [],
   "source": [
    "def kcluster(data, k=3):\n",
    "    data = normal(data)\n",
    "    init_center = selectCenter(data, k)\n",
    "    old_centers =  pd.DataFrame(data.loc[init_center].values,index=['class_'+str(i) for i in range(1, init_center.shape[0]+1)])\n",
    "    old_class = {}\n",
    "    while True:\n",
    "        new_center, new_clas = updatecenter(data, old_centers)  \n",
    "        if new_clas == old_class:\n",
    "            break\n",
    "        old_centers = new_center\n",
    "        old_class = new_clas.copy()\n",
    "    print(old_class)"
   ]
  },
  {
   "cell_type": "code",
   "execution_count": 13,
   "metadata": {},
   "outputs": [
    {
     "name": "stdout",
     "output_type": "stream",
     "text": [
      "{'class_3': ['Border Collie', 'Boston Terrier', 'Brittany Spaniel', 'Chihuahua', 'Portuguese Water Dog', 'Standard Poodle', 'Yorkshire Terrier'], 'class_1': ['Bullmastiff', 'German Shepherd', 'Golden Retriever'], 'class_2': ['Great Dane']}\n"
     ]
    }
   ],
   "source": [
    "kcluster(dogs)"
   ]
  }
 ],
 "metadata": {
  "kernelspec": {
   "display_name": "Python 3",
   "language": "python",
   "name": "python3"
  },
  "language_info": {
   "codemirror_mode": {
    "name": "ipython",
    "version": 3
   },
   "file_extension": ".py",
   "mimetype": "text/x-python",
   "name": "python",
   "nbconvert_exporter": "python",
   "pygments_lexer": "ipython3",
   "version": "3.6.4"
  }
 },
 "nbformat": 4,
 "nbformat_minor": 2
}
