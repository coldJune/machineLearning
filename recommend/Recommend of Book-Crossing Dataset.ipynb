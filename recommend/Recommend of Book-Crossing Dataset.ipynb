{
 "cells": [
  {
   "cell_type": "markdown",
   "metadata": {},
   "source": [
    "# 数据准备\n",
    "\n",
    "首先从[网站](http://www2.informatik.uni-freiburg.de/~cziegler/BX/)上下载数据集，数据源分为SQL和CSV格式的，这里使用的事CSV格式的数据。\n",
    "数据一共分成三部分：\n",
    "1. 书：ISBN编号、书名、作者、出版年限、出版社、图片尺寸网址等信息\n",
    "2. 用户：用户ID、位置信息、年龄\n",
    "3. 评分：用户ID、ISBN编号、评分(0-10)\n",
    "\n",
    "其中有278858名用户对271379本图书的1048575条评分。"
   ]
  },
  {
   "cell_type": "code",
   "execution_count": 1,
   "metadata": {},
   "outputs": [],
   "source": [
    "# 引入相关模块\n",
    "import pandas as pd\n",
    "import numpy as np\n",
    "import codecs\n",
    "import zipfile\n",
    "\n",
    "%matplotlib inline"
   ]
  },
  {
   "cell_type": "code",
   "execution_count": 2,
   "metadata": {},
   "outputs": [],
   "source": [
    "def loadData():\n",
    "    # 解压压缩包\n",
    "    user_book_rating = zipfile.ZipFile('./dataset/BX-Dump.zip')\n",
    "    user_book_rating.extractall(\"./dataset\")\n",
    "    user_book_rating.close()\n",
    "    #读取csv文件\n",
    "    #因为文件中有引号作为特殊字符，无法用pandas加载\n",
    "    #所以此处手动加载数据\n",
    "    \n",
    "    # 加载图书数据，获取ISBN和其他信息\n",
    "    books = {}\n",
    "    with codecs.open('./dataset/BX-Books.csv', 'r', 'utf-8') as book:\n",
    "        for line in book:\n",
    "            features = list(map(lambda x: x.strip('\"'), line.split(';')))\n",
    "            books[features[0]] = '--'.join(features[1:])\n",
    "                \n",
    "    #  加载用户信息，获取用户编号和其他信息\n",
    "    users = {}\n",
    "    with codecs.open('./dataset/BX-Users.csv', 'r', 'utf-8') as user:\n",
    "        for line in user:\n",
    "            features = list(map(lambda x: x.strip('\"'), line.split(';')))\n",
    "            users[features[0]] = \"--\".join(features[1:])\n",
    "            \n",
    "    # 获取用户对书籍的评分，使用嵌套字典存储\n",
    "    ratings = {}\n",
    "    with codecs.open('./dataset/BX-Book-Ratings.csv', 'r', 'utf-8') as rating:\n",
    "        for line in rating:\n",
    "            features = list(map(lambda x: x.strip('\"'), line.split(';')))\n",
    "            if features[0] in ratings:\n",
    "                current_ratings = ratings[features[0]]\n",
    "            else:\n",
    "                current_ratings = {}\n",
    "            current_ratings[features[1]] = int(features[2].strip().strip('\"'))\n",
    "            ratings[features[0]] = current_ratings\n",
    "#     books = pd.read_csv('./dataset/BX-Books.csv', sep=';')\n",
    "#     user = pd.read_csv('./dataset/BX-Users.csv', sep=';')\n",
    "#     ratings = pd.read_csv('./dataset/BX-Books-Ratings.csv', sep=';')\n",
    "    \n",
    "    return books, users, ratings"
   ]
  },
  {
   "cell_type": "code",
   "execution_count": 3,
   "metadata": {},
   "outputs": [],
   "source": [
    " books, users, ratings = loadData()"
   ]
  },
  {
   "cell_type": "code",
   "execution_count": 4,
   "metadata": {},
   "outputs": [
    {
     "data": {
      "text/plain": [
       "{'034545104X': 0}"
      ]
     },
     "execution_count": 4,
     "metadata": {},
     "output_type": "execute_result"
    }
   ],
   "source": [
    "ratings[\"276725\"]"
   ]
  },
  {
   "cell_type": "markdown",
   "metadata": {},
   "source": [
    "# 定义相似度验证方法\n",
    "## 曼哈顿距离\n",
    "曼哈顿距离是最简单的距离计算方式，一个点$(x, y)$由两个维度表示，两个点的曼哈顿距离就是在求得$x$轴之差的绝对值加上$y$轴只差的绝对值：\n",
    "$$d= |x_1 - x_2| + |y_1 - y_2|$$\n",
    "## 欧几里得距离\n",
    "欧几里得距离可以计算任意维度中两个点之间的距离：\n",
    "$$d = \\sqrt{(x_1 - x_2)^2 + (y_1 - y_2)^2}$$\n",
    "## 闵可夫斯基距离\n",
    "曼哈顿距离和欧几里得距离可以统筹成一个距离公式，就是闵可夫斯基距离：\n",
    "$$d(x,y) = (\\sum_{k=1}^{n}|x_k - y_k|^r)^{\\frac{1}{r}} $$\n",
    "* r = 1 时是曼哈顿距离\n",
    "* r = 2 时是欧几里得距离\n",
    "\n",
    "## 皮尔逊相关系数\n",
    "皮尔逊相关系数用于衡量两个变量之间的相关性，它的值在$-1$到$1$之间， $-1$表示完全相反， $1$表示完全相关：\n",
    "$$r = \\frac{\\sum_{i=1}^{n}(x_i - \\overline{x})(y_i - \\overline{y})}{\\sqrt{\\sum_{i=1}^{n}(x_i-\\overline{x})^2}\\sqrt{\\sum_{i=1}^{n} (y - \\overline{y})^2}} \\approx \\frac{\\sum_{i=1}^{n}x_iy_i-\\frac{\\sum_{i=1}^{n}  x_i \\sum_{i=1}^{n}  y_i}{n}}{\\sqrt{\\sum_{i=1}^{n} x_i^2 - \\frac{(\\sum_{i=1}^{n} x_i)^2}{n}}\\sqrt{\\sum_{i=1}^{n} y_i^2 - \\frac{(\\sum_{i=1}^{n} y_i)^2}{n}}}$$\n",
    "\n",
    "## 余弦相似度\n",
    "余弦相似度可以解决数据的稀疏性问题，其在计算过程中会略过$0$值：\n",
    "$$\\cos{x, y} = \\frac{x \\cdot y}{||x||||y||}$$"
   ]
  },
  {
   "cell_type": "code",
   "execution_count": 5,
   "metadata": {},
   "outputs": [],
   "source": [
    "# 曼哈顿距离\n",
    "def manhattan(rating1, rating2):\n",
    "    distance = 0\n",
    "    for key in rating1:\n",
    "        if key in rating2:\n",
    "            distance += abs(rating1[key] - rating2[key])\n",
    "    return distance\n",
    "\n",
    "# 欧几里得距离\n",
    "def euclid(rating1, rating2):\n",
    "    distance = 0\n",
    "    for key in rating1:\n",
    "        if key in rating2:\n",
    "            distance += np.square(rating1[key] - rating2[key])\n",
    "    return np.sqrt(distance)\n",
    "\n",
    "# 皮尔逊相关系数\n",
    "def pearson(rating1, rating2):\n",
    "    sum_xy = 0\n",
    "    sum_x = 0\n",
    "    sum_y = 0\n",
    "    sum_x2 = 0\n",
    "    sum_y2 = 0\n",
    "    n = 0\n",
    "    for key in rating1:\n",
    "        if key in rating2:\n",
    "            n += 1\n",
    "            x = rating1[key]\n",
    "            y = rating2[key]\n",
    "            sum_xy += x + y\n",
    "            sum_x += x\n",
    "            sum_y += y\n",
    "            sum_x2 += np.square(x)\n",
    "            sum_y2 += np.square(y)\n",
    "    if n == 0:\n",
    "        return 0\n",
    "    denominator = np.sqrt(sum_x2 - np.square(sum_x) / n) * np.sqrt(sum_y2 - np.square(sum_y) / n)\n",
    "    if denominator == 0:\n",
    "        return 0\n",
    "    else:\n",
    "        return (sum_xy - sum_x * sum_y / n)/denominator\n",
    "\n",
    "# 余弦相似度\n",
    "def cossim(rating1, rating2):\n",
    "    sumxy = 0\n",
    "    sumx2 = 0\n",
    "    sumy2 = 0\n",
    "    for key in rating1:\n",
    "        if key in rating2:\n",
    "            sumxy += rating1[key] * rating2[key]\n",
    "            sumx2 += np.square(rating1[key])\n",
    "            sumy2 += np.square(rating2[key])\n",
    "    denominator = np.sqrt(sumx2*sumy2)\n",
    "    if denominator == 0 :\n",
    "        return 0\n",
    "    else:\n",
    "        return sumxy / denominator"
   ]
  },
  {
   "cell_type": "code",
   "execution_count": 6,
   "metadata": {},
   "outputs": [],
   "source": [
    "# 计算与用户相邻的其他用户\n",
    "def computerNearestNeighbor(user, fn=pearson):\n",
    "    distances = []\n",
    "    for instance in ratings:\n",
    "        if instance != user:\n",
    "            distance = fn(ratings[instance], ratings[user])\n",
    "            distances.append((instance, distance))\n",
    "    distances.sort(key=lambda x:x[1], reverse=True)\n",
    "    return distances"
   ]
  },
  {
   "cell_type": "markdown",
   "metadata": {},
   "source": [
    "# 开始推荐"
   ]
  },
  {
   "cell_type": "code",
   "execution_count": 7,
   "metadata": {},
   "outputs": [],
   "source": [
    "def recommend(user, fn=pearson, k=1, n=5):\n",
    "    \"\"\"\n",
    "    user 推荐的用户\n",
    "    fn 相似度计算方法\n",
    "    k  k临近算法中的值\n",
    "    n 推荐几个\n",
    "    \"\"\"\n",
    "    # 推荐列表\n",
    "    recommendations = {}\n",
    "    nearset = computerNearestNeighbor(user, fn)\n",
    "    \n",
    "    #获取用户评价过的商品\n",
    "    userRatings = ratings[user]\n",
    "    \n",
    "    totalDistance = 0\n",
    "    for i in range(k):\n",
    "        totalDistance += nearset[i][1]\n",
    "    for i in range(k):\n",
    "        # 计算k个用户的权重\n",
    "        weight = nearset[i][1] / totalDistance\n",
    "        # 用户名称\n",
    "        userId = nearset[i][0]\n",
    "        # 获取该用户的评分\n",
    "        neighborRatings = ratings[userId]\n",
    "        # 获取推荐用户没有评价过的商品\n",
    "        for item in neighborRatings:\n",
    "            if item  not in userRatings:\n",
    "                if item  not in recommendations:\n",
    "                    recommendations[item] = (neighborRatings[item] * weight)\n",
    "                else:\n",
    "                    recommendations[item] += neighborRatings[item]*weight\n",
    "    recommendations = list(recommendations.items())\n",
    "    recommendations = [(books[k] if k in books else k, v) for (k, v) in recommendations]\n",
    "    recommendations.sort(key=lambda x: x[1], reverse=True)\n",
    "    return recommendations[:n]"
   ]
  },
  {
   "cell_type": "code",
   "execution_count": 9,
   "metadata": {},
   "outputs": [
    {
     "data": {
      "text/plain": [
       "[('The Saving Graces: A Novel--Patricia Gaffney--2000--HarperTorch--http://images.amazon.com/images/P/0061097101.01.THUMBZZZ.jpg--http://images.amazon.com/images/P/0061097101.01.MZZZZZZZ.jpg--http://images.amazon.com/images/P/0061097101.01.LZZZZZZZ.jpg\"\\n',\n",
       "  10.0),\n",
       " ('Tuesdays with Morrie: An Old Man, a Young Man, and Life\\'s Greatest Lesson--MITCH ALBOM--1997--Doubleday--http://images.amazon.com/images/P/0385484518.01.THUMBZZZ.jpg--http://images.amazon.com/images/P/0385484518.01.MZZZZZZZ.jpg--http://images.amazon.com/images/P/0385484518.01.LZZZZZZZ.jpg\"\\n',\n",
       "  10.0),\n",
       " ('Harry Potter and the Order of the Phoenix (Book 5)--J. K. Rowling--2003--Scholastic--http://images.amazon.com/images/P/043935806X.01.THUMBZZZ.jpg--http://images.amazon.com/images/P/043935806X.01.MZZZZZZZ.jpg--http://images.amazon.com/images/P/043935806X.01.LZZZZZZZ.jpg\"\\n',\n",
       "  10.0),\n",
       " ('A Time to Kill--JOHN GRISHAM--1992--Dell--http://images.amazon.com/images/P/0440211727.01.THUMBZZZ.jpg--http://images.amazon.com/images/P/0440211727.01.MZZZZZZZ.jpg--http://images.amazon.com/images/P/0440211727.01.LZZZZZZZ.jpg\"\\n',\n",
       "  10.0),\n",
       " ('The Five People You Meet in Heaven--Mitch Albom--2003--Hyperion--http://images.amazon.com/images/P/0786868716.01.THUMBZZZ.jpg--http://images.amazon.com/images/P/0786868716.01.MZZZZZZZ.jpg--http://images.amazon.com/images/P/0786868716.01.LZZZZZZZ.jpg\"\\n',\n",
       "  10.0)]"
      ]
     },
     "execution_count": 9,
     "metadata": {},
     "output_type": "execute_result"
    }
   ],
   "source": [
    "recommend('250764')"
   ]
  }
 ],
 "metadata": {
  "kernelspec": {
   "display_name": "Python 3",
   "language": "python",
   "name": "python3"
  },
  "language_info": {
   "codemirror_mode": {
    "name": "ipython",
    "version": 3
   },
   "file_extension": ".py",
   "mimetype": "text/x-python",
   "name": "python",
   "nbconvert_exporter": "python",
   "pygments_lexer": "ipython3",
   "version": "3.7.3"
  }
 },
 "nbformat": 4,
 "nbformat_minor": 2
}
