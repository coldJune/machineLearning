{
 "cells": [
  {
   "cell_type": "markdown",
   "metadata": {},
   "source": [
    "# 准备工作"
   ]
  },
  {
   "cell_type": "code",
   "execution_count": 1,
   "metadata": {},
   "outputs": [],
   "source": [
    "# 导入相应的模块\n",
    "import numpy as np\n",
    "import pandas as pd\n",
    "import random"
   ]
  },
  {
   "cell_type": "code",
   "execution_count": 2,
   "metadata": {},
   "outputs": [],
   "source": [
    "iris = pd.read_csv('./dataset/iris/iris.data', names=['Sepal Length', 'Sepal width', 'Petal Length', 'Petal Width', 'Class'], sep=',')"
   ]
  },
  {
   "cell_type": "code",
   "execution_count": 3,
   "metadata": {},
   "outputs": [],
   "source": [
    "def split_data(data, ratio=0.8):    \n",
    "    index  = np.random.permutation(150)\n",
    "    traing_data = data.loc[index[:int(len(index)*0.8)]]\n",
    "    test_data = data.loc[index[int(len(index)*0.8):]]\n",
    "    return traing_data, test_data"
   ]
  },
  {
   "cell_type": "code",
   "execution_count": 4,
   "metadata": {},
   "outputs": [],
   "source": [
    "traing_data, test_data = split_data(iris)"
   ]
  },
  {
   "cell_type": "code",
   "execution_count": 5,
   "metadata": {},
   "outputs": [
    {
     "data": {
      "text/plain": [
       "Sepal Length    0.692583\n",
       "Sepal width     0.340875\n",
       "Petal Length    1.559222\n",
       "Petal Width     0.651389\n",
       "dtype: float64"
      ]
     },
     "execution_count": 5,
     "metadata": {},
     "output_type": "execute_result"
    }
   ],
   "source": [
    "traing_data.mad()"
   ]
  },
  {
   "cell_type": "code",
   "execution_count": 6,
   "metadata": {},
   "outputs": [],
   "source": [
    "# 标准化训练集和测试集\n",
    "# \n",
    "def normal(data):\n",
    "    data_median = data.median()\n",
    "    # 计算绝对平方偏差\n",
    "    data_mad =  data.mad()\n",
    "    # 标准化每一个向量\n",
    "    data.iloc[:,:4]=(data.iloc[:,:4] - data_median) / data_mad\n",
    "    return data, data_median, data_mad"
   ]
  },
  {
   "cell_type": "code",
   "execution_count": 7,
   "metadata": {},
   "outputs": [],
   "source": [
    "traing_data, data_median, data_mad = normal(traing_data)"
   ]
  },
  {
   "cell_type": "code",
   "execution_count": 8,
   "metadata": {},
   "outputs": [
    {
     "data": {
      "text/html": [
       "<div>\n",
       "<style scoped>\n",
       "    .dataframe tbody tr th:only-of-type {\n",
       "        vertical-align: middle;\n",
       "    }\n",
       "\n",
       "    .dataframe tbody tr th {\n",
       "        vertical-align: top;\n",
       "    }\n",
       "\n",
       "    .dataframe thead th {\n",
       "        text-align: right;\n",
       "    }\n",
       "</style>\n",
       "<table border=\"1\" class=\"dataframe\">\n",
       "  <thead>\n",
       "    <tr style=\"text-align: right;\">\n",
       "      <th></th>\n",
       "      <th>Sepal Length</th>\n",
       "      <th>Sepal width</th>\n",
       "      <th>Petal Length</th>\n",
       "      <th>Petal Width</th>\n",
       "      <th>Class</th>\n",
       "    </tr>\n",
       "  </thead>\n",
       "  <tbody>\n",
       "    <tr>\n",
       "      <th>54</th>\n",
       "      <td>1.155096</td>\n",
       "      <td>-0.586725</td>\n",
       "      <td>0.224471</td>\n",
       "      <td>0.307036</td>\n",
       "      <td>Iris-versicolor</td>\n",
       "    </tr>\n",
       "    <tr>\n",
       "      <th>48</th>\n",
       "      <td>-0.577548</td>\n",
       "      <td>2.053539</td>\n",
       "      <td>-1.763700</td>\n",
       "      <td>-1.688699</td>\n",
       "      <td>Iris-setosa</td>\n",
       "    </tr>\n",
       "    <tr>\n",
       "      <th>147</th>\n",
       "      <td>1.155096</td>\n",
       "      <td>0.000000</td>\n",
       "      <td>0.609278</td>\n",
       "      <td>1.074627</td>\n",
       "      <td>Iris-virginica</td>\n",
       "    </tr>\n",
       "    <tr>\n",
       "      <th>127</th>\n",
       "      <td>0.577548</td>\n",
       "      <td>0.000000</td>\n",
       "      <td>0.416875</td>\n",
       "      <td>0.767591</td>\n",
       "      <td>Iris-virginica</td>\n",
       "    </tr>\n",
       "    <tr>\n",
       "      <th>18</th>\n",
       "      <td>0.000000</td>\n",
       "      <td>2.346901</td>\n",
       "      <td>-1.635431</td>\n",
       "      <td>-1.535181</td>\n",
       "      <td>Iris-setosa</td>\n",
       "    </tr>\n",
       "  </tbody>\n",
       "</table>\n",
       "</div>"
      ],
      "text/plain": [
       "     Sepal Length  Sepal width  Petal Length  Petal Width            Class\n",
       "54       1.155096    -0.586725      0.224471     0.307036  Iris-versicolor\n",
       "48      -0.577548     2.053539     -1.763700    -1.688699      Iris-setosa\n",
       "147      1.155096     0.000000      0.609278     1.074627   Iris-virginica\n",
       "127      0.577548     0.000000      0.416875     0.767591   Iris-virginica\n",
       "18       0.000000     2.346901     -1.635431    -1.535181      Iris-setosa"
      ]
     },
     "execution_count": 8,
     "metadata": {},
     "output_type": "execute_result"
    }
   ],
   "source": [
    "traing_data.head()"
   ]
  },
  {
   "cell_type": "code",
   "execution_count": 9,
   "metadata": {},
   "outputs": [],
   "source": [
    "# 计算曼哈顿距离\n",
    "def manhattan(verctor1, verctor2):\n",
    "    distance = np.sum(np.abs(verctor1-verctor2))\n",
    "    return distance"
   ]
  },
  {
   "cell_type": "code",
   "execution_count": 10,
   "metadata": {},
   "outputs": [],
   "source": [
    "# 计算最邻近的\n",
    "def computeNeibor(item, data):\n",
    "    return sorted([[manhattan(item, itemVector.iloc[:4]), itemVector['Class']] for index, itemVector in data.iterrows()])[0]"
   ]
  },
  {
   "cell_type": "code",
   "execution_count": 11,
   "metadata": {},
   "outputs": [],
   "source": [
    "def classifer(traing_data, test_data):\n",
    "    traing_data, data_mean, data_mad = normal(traing_data)\n",
    "    count = 0\n",
    "    for index, test in test_data.iterrows():\n",
    "        test.iloc[:4] = (test.iloc[:4] - data_median)/data_mad\n",
    "        predict = computeNeibor(test.iloc[:4], traing_data)\n",
    "        if predict[1] == test['Class']:\n",
    "            count += 1\n",
    "    print(count)\n",
    "    print(test_data.shape[0])\n",
    "    print('acc:%f%%'  % (count*100/test_data.shape[0]))"
   ]
  },
  {
   "cell_type": "code",
   "execution_count": 12,
   "metadata": {},
   "outputs": [
    {
     "name": "stdout",
     "output_type": "stream",
     "text": [
      "28\n",
      "30\n",
      "acc:93.333333%\n"
     ]
    }
   ],
   "source": [
    "classifer(traing_data, test_data)"
   ]
  }
 ],
 "metadata": {
  "kernelspec": {
   "display_name": "Python 3",
   "language": "python",
   "name": "python3"
  },
  "language_info": {
   "codemirror_mode": {
    "name": "ipython",
    "version": 3
   },
   "file_extension": ".py",
   "mimetype": "text/x-python",
   "name": "python",
   "nbconvert_exporter": "python",
   "pygments_lexer": "ipython3",
   "version": "3.7.3"
  }
 },
 "nbformat": 4,
 "nbformat_minor": 2
}
