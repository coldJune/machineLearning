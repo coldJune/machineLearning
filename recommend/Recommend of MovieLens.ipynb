{
 "cells": [
  {
   "cell_type": "markdown",
   "metadata": {},
   "source": [
    "# 基于物品的过滤\n",
    "基于物品的过滤是计算找出最相似的两个物品，然后根据用户的评价来给出推荐结果"
   ]
  },
  {
   "cell_type": "code",
   "execution_count": 1,
   "metadata": {},
   "outputs": [],
   "source": [
    "# 引入相关的包\n",
    "import numpy as np\n",
    "import pandas as pd\n",
    "import os\n",
    "import zipfile"
   ]
  },
  {
   "cell_type": "code",
   "execution_count": 2,
   "metadata": {},
   "outputs": [],
   "source": [
    "def load_data(path, file):\n",
    "    if not os.path.isdir(path):\n",
    "        return\n",
    "    if not os.path.isfile(path+file):\n",
    "        return\n",
    "    # 解压压缩包\n",
    "    movielens = zipfile.ZipFile(path+file)\n",
    "    inpath = file.split('.')[0]+'/' \n",
    "    movielens.extractall(path)\n",
    "    #读取movielens数据\n",
    "    #links = pd.read_csv(path+inpath+'links.csv')\n",
    "    movies = pd.read_csv(path+inpath+'movies.dat', names=['movieId', 'title', 'genres'], sep='::', engine='python')\n",
    "    ratings = pd.read_csv(path+inpath+'ratings.dat', names=['userId', 'movieId', 'rating', 'timestamp'], sep='::', engine='python')\n",
    "    #tags = pd.read_csv(path+inpath+'users.dat', sep='::', engine='python')\n",
    "    return  movies, ratings\n",
    "    "
   ]
  },
  {
   "cell_type": "code",
   "execution_count": 3,
   "metadata": {},
   "outputs": [],
   "source": [
    "movies, ratings = load_data('./dataset/', 'ml-1m.zip')"
   ]
  },
  {
   "cell_type": "code",
   "execution_count": 4,
   "metadata": {},
   "outputs": [
    {
     "data": {
      "text/html": [
       "<div>\n",
       "<style scoped>\n",
       "    .dataframe tbody tr th:only-of-type {\n",
       "        vertical-align: middle;\n",
       "    }\n",
       "\n",
       "    .dataframe tbody tr th {\n",
       "        vertical-align: top;\n",
       "    }\n",
       "\n",
       "    .dataframe thead th {\n",
       "        text-align: right;\n",
       "    }\n",
       "</style>\n",
       "<table border=\"1\" class=\"dataframe\">\n",
       "  <thead>\n",
       "    <tr style=\"text-align: right;\">\n",
       "      <th></th>\n",
       "      <th>movieId</th>\n",
       "      <th>title</th>\n",
       "      <th>genres</th>\n",
       "    </tr>\n",
       "  </thead>\n",
       "  <tbody>\n",
       "    <tr>\n",
       "      <th>0</th>\n",
       "      <td>1</td>\n",
       "      <td>Toy Story (1995)</td>\n",
       "      <td>Animation|Children's|Comedy</td>\n",
       "    </tr>\n",
       "    <tr>\n",
       "      <th>1</th>\n",
       "      <td>2</td>\n",
       "      <td>Jumanji (1995)</td>\n",
       "      <td>Adventure|Children's|Fantasy</td>\n",
       "    </tr>\n",
       "    <tr>\n",
       "      <th>2</th>\n",
       "      <td>3</td>\n",
       "      <td>Grumpier Old Men (1995)</td>\n",
       "      <td>Comedy|Romance</td>\n",
       "    </tr>\n",
       "    <tr>\n",
       "      <th>3</th>\n",
       "      <td>4</td>\n",
       "      <td>Waiting to Exhale (1995)</td>\n",
       "      <td>Comedy|Drama</td>\n",
       "    </tr>\n",
       "    <tr>\n",
       "      <th>4</th>\n",
       "      <td>5</td>\n",
       "      <td>Father of the Bride Part II (1995)</td>\n",
       "      <td>Comedy</td>\n",
       "    </tr>\n",
       "  </tbody>\n",
       "</table>\n",
       "</div>"
      ],
      "text/plain": [
       "   movieId                               title                        genres\n",
       "0        1                    Toy Story (1995)   Animation|Children's|Comedy\n",
       "1        2                      Jumanji (1995)  Adventure|Children's|Fantasy\n",
       "2        3             Grumpier Old Men (1995)                Comedy|Romance\n",
       "3        4            Waiting to Exhale (1995)                  Comedy|Drama\n",
       "4        5  Father of the Bride Part II (1995)                        Comedy"
      ]
     },
     "execution_count": 4,
     "metadata": {},
     "output_type": "execute_result"
    }
   ],
   "source": [
    "movies.head()"
   ]
  },
  {
   "cell_type": "code",
   "execution_count": 5,
   "metadata": {},
   "outputs": [
    {
     "data": {
      "text/html": [
       "<div>\n",
       "<style scoped>\n",
       "    .dataframe tbody tr th:only-of-type {\n",
       "        vertical-align: middle;\n",
       "    }\n",
       "\n",
       "    .dataframe tbody tr th {\n",
       "        vertical-align: top;\n",
       "    }\n",
       "\n",
       "    .dataframe thead th {\n",
       "        text-align: right;\n",
       "    }\n",
       "</style>\n",
       "<table border=\"1\" class=\"dataframe\">\n",
       "  <thead>\n",
       "    <tr style=\"text-align: right;\">\n",
       "      <th></th>\n",
       "      <th>userId</th>\n",
       "      <th>movieId</th>\n",
       "      <th>rating</th>\n",
       "      <th>timestamp</th>\n",
       "    </tr>\n",
       "  </thead>\n",
       "  <tbody>\n",
       "    <tr>\n",
       "      <th>0</th>\n",
       "      <td>1</td>\n",
       "      <td>1193</td>\n",
       "      <td>5</td>\n",
       "      <td>978300760</td>\n",
       "    </tr>\n",
       "    <tr>\n",
       "      <th>1</th>\n",
       "      <td>1</td>\n",
       "      <td>661</td>\n",
       "      <td>3</td>\n",
       "      <td>978302109</td>\n",
       "    </tr>\n",
       "    <tr>\n",
       "      <th>2</th>\n",
       "      <td>1</td>\n",
       "      <td>914</td>\n",
       "      <td>3</td>\n",
       "      <td>978301968</td>\n",
       "    </tr>\n",
       "    <tr>\n",
       "      <th>3</th>\n",
       "      <td>1</td>\n",
       "      <td>3408</td>\n",
       "      <td>4</td>\n",
       "      <td>978300275</td>\n",
       "    </tr>\n",
       "    <tr>\n",
       "      <th>4</th>\n",
       "      <td>1</td>\n",
       "      <td>2355</td>\n",
       "      <td>5</td>\n",
       "      <td>978824291</td>\n",
       "    </tr>\n",
       "  </tbody>\n",
       "</table>\n",
       "</div>"
      ],
      "text/plain": [
       "   userId  movieId  rating  timestamp\n",
       "0       1     1193       5  978300760\n",
       "1       1      661       3  978302109\n",
       "2       1      914       3  978301968\n",
       "3       1     3408       4  978300275\n",
       "4       1     2355       5  978824291"
      ]
     },
     "execution_count": 5,
     "metadata": {},
     "output_type": "execute_result"
    }
   ],
   "source": [
    "ratings.head()"
   ]
  },
  {
   "cell_type": "code",
   "execution_count": 6,
   "metadata": {},
   "outputs": [
    {
     "data": {
      "text/html": [
       "<div>\n",
       "<style scoped>\n",
       "    .dataframe tbody tr th:only-of-type {\n",
       "        vertical-align: middle;\n",
       "    }\n",
       "\n",
       "    .dataframe tbody tr th {\n",
       "        vertical-align: top;\n",
       "    }\n",
       "\n",
       "    .dataframe thead th {\n",
       "        text-align: right;\n",
       "    }\n",
       "</style>\n",
       "<table border=\"1\" class=\"dataframe\">\n",
       "  <thead>\n",
       "    <tr style=\"text-align: right;\">\n",
       "      <th></th>\n",
       "      <th></th>\n",
       "      <th>rating</th>\n",
       "      <th>timestamp</th>\n",
       "    </tr>\n",
       "    <tr>\n",
       "      <th>userId</th>\n",
       "      <th>movieId</th>\n",
       "      <th></th>\n",
       "      <th></th>\n",
       "    </tr>\n",
       "  </thead>\n",
       "  <tbody>\n",
       "    <tr>\n",
       "      <th rowspan=\"5\" valign=\"top\">1</th>\n",
       "      <th>1193</th>\n",
       "      <td>5</td>\n",
       "      <td>978300760</td>\n",
       "    </tr>\n",
       "    <tr>\n",
       "      <th>661</th>\n",
       "      <td>3</td>\n",
       "      <td>978302109</td>\n",
       "    </tr>\n",
       "    <tr>\n",
       "      <th>914</th>\n",
       "      <td>3</td>\n",
       "      <td>978301968</td>\n",
       "    </tr>\n",
       "    <tr>\n",
       "      <th>3408</th>\n",
       "      <td>4</td>\n",
       "      <td>978300275</td>\n",
       "    </tr>\n",
       "    <tr>\n",
       "      <th>2355</th>\n",
       "      <td>5</td>\n",
       "      <td>978824291</td>\n",
       "    </tr>\n",
       "  </tbody>\n",
       "</table>\n",
       "</div>"
      ],
      "text/plain": [
       "                rating  timestamp\n",
       "userId movieId                   \n",
       "1      1193          5  978300760\n",
       "       661           3  978302109\n",
       "       914           3  978301968\n",
       "       3408          4  978300275\n",
       "       2355          5  978824291"
      ]
     },
     "execution_count": 6,
     "metadata": {},
     "output_type": "execute_result"
    }
   ],
   "source": [
    "ratings = ratings.set_index(['userId', 'movieId'])\n",
    "ratings.head()"
   ]
  },
  {
   "cell_type": "markdown",
   "metadata": {},
   "source": [
    "# 相似度计算\n",
    "## 修正的余弦相似度\n",
    "余弦相似度会遇到评分范围过大的问题，所以需要对用户的评价归一化，将其归一到一个更小的范围，使得分数分布更合理，因此需要用用户的评价减去他评价的所有物品的均值：\n",
    "$$s(i,j) = \\frac{\\sum_{u \\in U}(R_{u,i}-\\overline{R_u})(R_{u,j}-\\overline{R_u})}{\\sqrt{\\sum_{u \\in U}(R_{u,i}-\\overline{R_u})^2} \\sqrt{\\sum_{u \\in U}(R_{u,j}- \\overline{R_u})^2}}$$\n",
    "其中：\n",
    "\n",
    "$\\overline{R_u}$ 表示用户对所有物品评价的平均值\n",
    "\n",
    "$U$表示评价过物品 $i$和$j$ 的用户集合"
   ]
  },
  {
   "cell_type": "code",
   "execution_count": 7,
   "metadata": {},
   "outputs": [],
   "source": [
    "def sim(item1, item2, ratings=ratings):\n",
    "    average = ratings.groupby('userId')['rating'].mean()\n",
    "    num = 0 # 分子\n",
    "    de_1 = 0 # 分母1\n",
    "    de_2 = 0 # 分母2\n",
    "    for userId in ratings.index.levels[0]:\n",
    "        if item1 in ratings.loc[userId].index and item2 in ratings.loc[userId].index:\n",
    "            avg = average[userId]\n",
    "            num += (ratings.loc[userId].loc[item1]['rating'] - avg)*(ratings.loc[userId].loc[item2]['rating'] - avg)\n",
    "            de_1 += np.square(ratings.loc[userId].loc[item1]['rating'] - avg)\n",
    "            de_2 += np.square(ratings.loc[userId].loc[item2]['rating'] - avg)\n",
    "    if de_1 != 0 and de_2 != 0 and num != 0:\n",
    "        return num / (np.sqrt(de_1)*np.sqrt(de_2))\n",
    "    return 0"
   ]
  },
  {
   "cell_type": "code",
   "execution_count": 8,
   "metadata": {},
   "outputs": [
    {
     "data": {
      "text/plain": [
       "-0.19196048381477623"
      ]
     },
     "execution_count": 8,
     "metadata": {},
     "output_type": "execute_result"
    }
   ],
   "source": [
    "sim(1,4)"
   ]
  },
  {
   "cell_type": "code",
   "execution_count": 9,
   "metadata": {},
   "outputs": [],
   "source": [
    "def predict(userId, item):\n",
    "    similar = 0\n",
    "    dem = 0\n",
    "    if item not in ratings.loc[userId].index:\n",
    "        for movieId in ratings.loc[userId].index:\n",
    "            similar += sim(item, movieId) * ratings.loc[userId].loc[movieId]['rating']\n",
    "            dem += sim(item, movieId)\n",
    "        return similar / dem\n",
    "    return ratings.loc[userId].loca[item]['rating']"
   ]
  },
  {
   "cell_type": "code",
   "execution_count": 10,
   "metadata": {},
   "outputs": [
    {
     "data": {
      "text/plain": [
       "4.193735445493792"
      ]
     },
     "execution_count": 10,
     "metadata": {},
     "output_type": "execute_result"
    }
   ],
   "source": [
    "predict(1, 234)"
   ]
  },
  {
   "cell_type": "markdown",
   "metadata": {},
   "source": [
    "# Slope One算法\n",
    "Slope One 算法是在一篇名为《Slope One: 基于在线评分系统的协同过滤算法》提出，其主要可以分为两步：\n",
    "1. 首先计算出两个物品之间的差值\n",
    "2. 进行预测\n",
    "\n",
    "计算物品之间差异的公式为：\n",
    "$$dev_{i,j} = \\sum_{u \\in S_{i,j}(X)} \\frac{u_i-u_j}{card(S_{i,j}(X))}$$\n",
    "\n",
    "$card(S)$表示$S$有多少个元素\n",
    "\n",
    "$X$表示所有评分值的集合\n",
    "\n",
    "$card(S_{j,i}(X))$表示同时评价过$i$和$j$的用户数"
   ]
  },
  {
   "cell_type": "code",
   "execution_count": 11,
   "metadata": {},
   "outputs": [
    {
     "data": {
      "text/html": [
       "<div>\n",
       "<style scoped>\n",
       "    .dataframe tbody tr th:only-of-type {\n",
       "        vertical-align: middle;\n",
       "    }\n",
       "\n",
       "    .dataframe tbody tr th {\n",
       "        vertical-align: top;\n",
       "    }\n",
       "\n",
       "    .dataframe thead th {\n",
       "        text-align: right;\n",
       "    }\n",
       "</style>\n",
       "<table border=\"1\" class=\"dataframe\">\n",
       "  <thead>\n",
       "    <tr style=\"text-align: right;\">\n",
       "      <th></th>\n",
       "      <th></th>\n",
       "      <th>rating</th>\n",
       "    </tr>\n",
       "  </thead>\n",
       "  <tbody>\n",
       "    <tr>\n",
       "      <th rowspan=\"3\" valign=\"top\">a</th>\n",
       "      <th>T</th>\n",
       "      <td>4.0</td>\n",
       "    </tr>\n",
       "    <tr>\n",
       "      <th>P</th>\n",
       "      <td>3.0</td>\n",
       "    </tr>\n",
       "    <tr>\n",
       "      <th>W</th>\n",
       "      <td>4.0</td>\n",
       "    </tr>\n",
       "    <tr>\n",
       "      <th rowspan=\"2\" valign=\"top\">b</th>\n",
       "      <th>T</th>\n",
       "      <td>5.0</td>\n",
       "    </tr>\n",
       "    <tr>\n",
       "      <th>P</th>\n",
       "      <td>2.0</td>\n",
       "    </tr>\n",
       "    <tr>\n",
       "      <th rowspan=\"2\" valign=\"top\">c</th>\n",
       "      <th>P</th>\n",
       "      <td>3.5</td>\n",
       "    </tr>\n",
       "    <tr>\n",
       "      <th>W</th>\n",
       "      <td>4.0</td>\n",
       "    </tr>\n",
       "    <tr>\n",
       "      <th rowspan=\"2\" valign=\"top\">d</th>\n",
       "      <th>T</th>\n",
       "      <td>5.0</td>\n",
       "    </tr>\n",
       "    <tr>\n",
       "      <th>W</th>\n",
       "      <td>3.0</td>\n",
       "    </tr>\n",
       "  </tbody>\n",
       "</table>\n",
       "</div>"
      ],
      "text/plain": [
       "     rating\n",
       "a T     4.0\n",
       "  P     3.0\n",
       "  W     4.0\n",
       "b T     5.0\n",
       "  P     2.0\n",
       "c P     3.5\n",
       "  W     4.0\n",
       "d T     5.0\n",
       "  W     3.0"
      ]
     },
     "execution_count": 11,
     "metadata": {},
     "output_type": "execute_result"
    }
   ],
   "source": [
    "#因为movielens数据量太大，所以用玩具数据测试slope算法正确性\n",
    "data = {\n",
    "    'T':[4, 5, np.nan,5],\n",
    "    'P':[3, 2, 3.5, np.nan],\n",
    "    'W':[4, np.nan, 4, 3]\n",
    "}\n",
    "movies = {\n",
    "    'movieId':['T', 'P', 'W']\n",
    "}\n",
    "ratings = pd.DataFrame(data, columns=['T', 'P', 'W'], index=['a', 'b', 'c', 'd'], dtype=np.float)\n",
    "ratings = pd.DataFrame(ratings.stack(), columns=['rating'])\n",
    "ratings"
   ]
  },
  {
   "cell_type": "code",
   "execution_count": 12,
   "metadata": {},
   "outputs": [],
   "source": [
    "def slope_one():\n",
    "    import datetime\n",
    "    print(datetime.datetime.now().strftime('%Y-%m-%d %H:%M:%S'))\n",
    "    card_ij = pd.DataFrame(index=movies['movieId'], columns=movies['movieId'], dtype=np.float16)\n",
    "    card_ij.loc[:, :] = 0\n",
    "    dev = card_ij.copy()\n",
    "    num = card_ij.copy()\n",
    "    i = 0\n",
    "    for userId in ratings.index.levels[0]:#用户\n",
    "        i += 1\n",
    "        j = 0\n",
    "        for movieId_1 in ratings.loc[userId].index:#用户对应的电影\n",
    "            j += 1\n",
    "            for movieId_2 in ratings.loc[userId].index:\n",
    "                print('{}*{}'.format(i, j), end='\\r')\n",
    "                if movieId_1 != movieId_2:\n",
    "                    dev.loc[movieId_1][movieId_2] += ratings.loc[userId].loc[movieId_1]['rating'] \\\n",
    "                    - ratings.loc[userId].loc[movieId_2]['rating']\n",
    "                    num.loc[movieId_1][movieId_2] += 1\n",
    "    card_ij = dev.div(num, fill_value=0)\n",
    "    print()\n",
    "    print(datetime.datetime.now().strftime('%Y-%m-%d %H:%M:%S'))\n",
    "    return card_ij, num"
   ]
  },
  {
   "cell_type": "code",
   "execution_count": 13,
   "metadata": {},
   "outputs": [
    {
     "name": "stdout",
     "output_type": "stream",
     "text": [
      "2019-03-23 11:29:46\n",
      "1*1\r",
      "1*1\r",
      "1*1\r",
      "1*2\r",
      "1*2\r",
      "1*2\r",
      "1*3\r",
      "1*3\r",
      "1*3\r",
      "2*1\r",
      "2*1\r",
      "2*2\r",
      "2*2\r",
      "3*1\r",
      "3*1\r",
      "3*2\r",
      "3*2\r",
      "4*1\r",
      "4*1\r",
      "4*2\r",
      "4*2\r\n",
      "2019-03-23 11:29:46\n"
     ]
    }
   ],
   "source": [
    "card, num = slope_one()\n"
   ]
  },
  {
   "cell_type": "code",
   "execution_count": 14,
   "metadata": {},
   "outputs": [
    {
     "data": {
      "text/html": [
       "<div>\n",
       "<style scoped>\n",
       "    .dataframe tbody tr th:only-of-type {\n",
       "        vertical-align: middle;\n",
       "    }\n",
       "\n",
       "    .dataframe tbody tr th {\n",
       "        vertical-align: top;\n",
       "    }\n",
       "\n",
       "    .dataframe thead th {\n",
       "        text-align: right;\n",
       "    }\n",
       "</style>\n",
       "<table border=\"1\" class=\"dataframe\">\n",
       "  <thead>\n",
       "    <tr style=\"text-align: right;\">\n",
       "      <th></th>\n",
       "      <th>T</th>\n",
       "      <th>P</th>\n",
       "      <th>W</th>\n",
       "    </tr>\n",
       "  </thead>\n",
       "  <tbody>\n",
       "    <tr>\n",
       "      <th>T</th>\n",
       "      <td>NaN</td>\n",
       "      <td>2.00</td>\n",
       "      <td>1.00</td>\n",
       "    </tr>\n",
       "    <tr>\n",
       "      <th>P</th>\n",
       "      <td>-2.0</td>\n",
       "      <td>NaN</td>\n",
       "      <td>-0.75</td>\n",
       "    </tr>\n",
       "    <tr>\n",
       "      <th>W</th>\n",
       "      <td>-1.0</td>\n",
       "      <td>0.75</td>\n",
       "      <td>NaN</td>\n",
       "    </tr>\n",
       "  </tbody>\n",
       "</table>\n",
       "</div>"
      ],
      "text/plain": [
       "     T     P     W\n",
       "T  NaN  2.00  1.00\n",
       "P -2.0   NaN -0.75\n",
       "W -1.0  0.75   NaN"
      ]
     },
     "execution_count": 14,
     "metadata": {},
     "output_type": "execute_result"
    }
   ],
   "source": [
    "card"
   ]
  },
  {
   "cell_type": "markdown",
   "metadata": {},
   "source": [
    "# 使用加权的Slope One算法进行预测\n",
    "$$P^{wS1}(u)_j = \\frac{\\sum_{i \\in S(u) - \\{j\\}}(dev_{j,i} + u_i)c_{j,i}}{\\sum_{i \\in S(u)-\\{j\\}}c_{j,i}}$$\n",
    "其中\n",
    "$$c_{j,i} = card(S_{j,i}(\\chi))$$\n",
    "\n",
    "$p^{wS1}(u)_j$表示将预测用户$u$对物品$j$的评分\n",
    "\n",
    "$\\sum_{i \\in S(u) - \\{j\\}}$表示$u$评价过的除了$j$以外的产品，整个分子表示对于用户评价过的所有商品找出与待预测的商品差值也就是$dev_{i,j}$并加上这个商品的评分，然后乘以同时评价过两个商品的用户数"
   ]
  },
  {
   "cell_type": "code",
   "execution_count": 15,
   "metadata": {},
   "outputs": [],
   "source": [
    "def slope_one_predict(user, predict_item):\n",
    "    up = 0\n",
    "    de = 0\n",
    "    for item in ratings.loc[user].index:\n",
    "        if item != predict_item:\n",
    "            up += (card.loc[predict_item][item] + ratings.loc[user].loc[item]['rating'])*num.loc[predict_item][item]\n",
    "            de += num[predict_item][item]\n",
    "    if up !=0 and de != 0:\n",
    "        return up/de\n",
    "    return 0"
   ]
  },
  {
   "cell_type": "code",
   "execution_count": 16,
   "metadata": {},
   "outputs": [
    {
     "data": {
      "text/plain": [
       "3.375"
      ]
     },
     "execution_count": 16,
     "metadata": {},
     "output_type": "execute_result"
    }
   ],
   "source": [
    "slope_one_predict('b', 'W')"
   ]
  }
 ],
 "metadata": {
  "kernelspec": {
   "display_name": "Python 3",
   "language": "python",
   "name": "python3"
  },
  "language_info": {
   "codemirror_mode": {
    "name": "ipython",
    "version": 3
   },
   "file_extension": ".py",
   "mimetype": "text/x-python",
   "name": "python",
   "nbconvert_exporter": "python",
   "pygments_lexer": "ipython3",
   "version": "3.6.5"
  }
 },
 "nbformat": 4,
 "nbformat_minor": 2
}
